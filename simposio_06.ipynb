{
  "nbformat": 4,
  "nbformat_minor": 0,
  "metadata": {
    "colab": {
      "provenance": [],
      "authorship_tag": "ABX9TyOJXi+kmdNqhtfAz5v5c+S8",
      "include_colab_link": true
    },
    "kernelspec": {
      "name": "python3",
      "display_name": "Python 3"
    },
    "language_info": {
      "name": "python"
    }
  },
  "cells": [
    {
      "cell_type": "markdown",
      "metadata": {
        "id": "view-in-github",
        "colab_type": "text"
      },
      "source": [
        "<a href=\"https://colab.research.google.com/github/Linomc/simposio_06/blob/main/simposio_06.ipynb\" target=\"_parent\"><img src=\"https://colab.research.google.com/assets/colab-badge.svg\" alt=\"Open In Colab\"/></a>"
      ]
    },
    {
      "cell_type": "markdown",
      "source": [
        "# Introdução ao google Colab\n",
        "## informação de modo geral\n",
        "**Obs.:** *as células de texto possuem uma particularidade que o colab conseguiu abstrair em parte, essas células, seguem o padrão chamado __Markdown__ para textos de maneira geral e __Latex__ para escrita de modelagens matemáticas. Mas que devido a caixa na parte de cima das células de texto, não é mais necessário na grande maioria dos casos ter o conhecimento do Markdown.*\n",
        "\n",
        "## vamos declarar o código escrito na célula abaixo:\n",
        "\n",
        "**dia = 24 ₓ 60 ₓ 60**\n",
        "\n",
        "**dia = 86.400s**"
      ],
      "metadata": {
        "id": "vSAAFDhI9wwd"
      }
    },
    {
      "cell_type": "code",
      "execution_count": 2,
      "metadata": {
        "colab": {
          "base_uri": "https://localhost:8080/"
        },
        "id": "FWeGakZN2WQK",
        "outputId": "f2072d80-8258-4fd5-a970-c5596f594246"
      },
      "outputs": [
        {
          "output_type": "stream",
          "name": "stdout",
          "text": [
            "86400\n",
            "total de segundos num dia 86400 s.\n"
          ]
        }
      ],
      "source": [
        "# ESSE É UM EXEMPLO DE CÉLULA DE CÓDIGO.\n",
        "\n",
        "# Esse script apresenta uma simples conta, por meio de variáveis.\n",
        "dia_em_horas = 24 # um dia possui 24 horas, por isso foi escrito 24.\n",
        "hora_em_minutos = 60 # uma hora possui 60 minutos, por isso foi escrito 60.\n",
        "minuto_em_segundos = 60 # um minutos possui 60 segundos, por isso foi escrito 60\n",
        "total_segundos_dia =  dia_em_horas * hora_em_minutos * minuto_em_segundos # entre cada variável possui o caracter *, que é a sinal de multiplicação.\n",
        "print (total_segundos_dia)\n",
        "print ('total de segundos num dia', total_segundos_dia,'s.')"
      ]
    }
  ]
}